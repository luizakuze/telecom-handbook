{
  "cells": [
    {
      "cell_type": "markdown",
      "metadata": {
        "id": "BYpMjFan6Lbw"
      },
      "source": [
        "# Estudo do tempo de corrida em minutos por km (pace) 📚 \n",
        "\n",
        "> Análise a partir da Maratona de Boston 2023 🏃 <br>\n",
        "> Fonte `https://data.scorenetwork.org/running/boston_marathon_2023.html` <br>\n",
        "> Autora: Luiza Kuze <br> Data: 02/12/2023 \n"
      ]
    },
    {
      "cell_type": "code",
      "execution_count": 1,
      "metadata": {
        "id": "xo5G1fAW5A3T"
      },
      "outputs": [],
      "source": [
        "#@title Importando bibliotecas\n",
        "import pandas as pd\n",
        "import numpy as np\n",
        "import matplotlib.pylab as plt\n",
        "import matplotlib.patches as patches\n",
        "import seaborn as sns\n",
        "plt.style.use('ggplot')"
      ]
    },
    {
      "cell_type": "code",
      "execution_count": 2,
      "metadata": {
        "id": "-fk_jZkicmX4"
      },
      "outputs": [],
      "source": [
        "#@title Leitura do arquivo\n",
        "\n",
        "uri = \"./boston_marathon_2023.csv\"\n",
        "maratona = pd.read_csv(uri)"
      ]
    },
    {
      "cell_type": "markdown",
      "metadata": {
        "id": "wzGUMS1XWduK"
      },
      "source": [
        "## Análise da Estrutura do Dataset 📖"
      ]
    },
    {
      "cell_type": "code",
      "execution_count": 3,
      "metadata": {
        "colab": {
          "base_uri": "https://localhost:8080/"
        },
        "id": "TIeQxJFceNX6",
        "outputId": "3660a75f-2aa9-4b90-f971-cbbdd1f90d83"
      },
      "outputs": [
        {
          "data": {
            "text/plain": [
              "False"
            ]
          },
          "execution_count": 3,
          "metadata": {},
          "output_type": "execute_result"
        }
      ],
      "source": [
        "#@title Verificando duplicações\n",
        "\n",
        "maratona.duplicated().any()"
      ]
    },
    {
      "cell_type": "code",
      "execution_count": 4,
      "metadata": {
        "colab": {
          "base_uri": "https://localhost:8080/",
          "height": 313
        },
        "id": "sBjO3aj-52UQ",
        "outputId": "5311c4e7-dd79-45e4-fe2f-7bc438633bf9"
      },
      "outputs": [
        {
          "data": {
            "text/html": [
              "<div>\n",
              "<style scoped>\n",
              "    .dataframe tbody tr th:only-of-type {\n",
              "        vertical-align: middle;\n",
              "    }\n",
              "\n",
              "    .dataframe tbody tr th {\n",
              "        vertical-align: top;\n",
              "    }\n",
              "\n",
              "    .dataframe thead th {\n",
              "        text-align: right;\n",
              "    }\n",
              "</style>\n",
              "<table border=\"1\" class=\"dataframe\">\n",
              "  <thead>\n",
              "    <tr style=\"text-align: right;\">\n",
              "      <th></th>\n",
              "      <th>divisao_faixa</th>\n",
              "      <th>posicao_geral</th>\n",
              "      <th>posicao_genero</th>\n",
              "      <th>posicao_faixa</th>\n",
              "      <th>nome</th>\n",
              "      <th>equipe</th>\n",
              "      <th>numero_peito</th>\n",
              "      <th>tempo_meia_maratona</th>\n",
              "      <th>tempo_liquido_maratona</th>\n",
              "      <th>tempo_bruto_maratona</th>\n",
              "      <th>genero</th>\n",
              "      <th>tempo_meia_maratona_segundos</th>\n",
              "      <th>tempo_liquido_maratona_segundos</th>\n",
              "      <th>tempo_bruto_maratona_segundos</th>\n",
              "      <th>tempo_liquido_maratona_minutos</th>\n",
              "    </tr>\n",
              "  </thead>\n",
              "  <tbody>\n",
              "    <tr>\n",
              "      <th>0</th>\n",
              "      <td>18-39</td>\n",
              "      <td>1</td>\n",
              "      <td>1</td>\n",
              "      <td>1</td>\n",
              "      <td>Chebet, Evans</td>\n",
              "      <td>Team–</td>\n",
              "      <td>1</td>\n",
              "      <td>1H 2M 20S</td>\n",
              "      <td>2H 5M 54S</td>\n",
              "      <td>2H 5M 54S</td>\n",
              "      <td>M</td>\n",
              "      <td>3740.0</td>\n",
              "      <td>7554</td>\n",
              "      <td>7554</td>\n",
              "      <td>125.900000</td>\n",
              "    </tr>\n",
              "    <tr>\n",
              "      <th>1</th>\n",
              "      <td>18-39</td>\n",
              "      <td>2</td>\n",
              "      <td>2</td>\n",
              "      <td>2</td>\n",
              "      <td>Geay, Gabriel</td>\n",
              "      <td>Team–</td>\n",
              "      <td>3</td>\n",
              "      <td>1H 2M 20S</td>\n",
              "      <td>2H 6M 4S</td>\n",
              "      <td>2H 6M 4S</td>\n",
              "      <td>M</td>\n",
              "      <td>3740.0</td>\n",
              "      <td>7564</td>\n",
              "      <td>7564</td>\n",
              "      <td>126.066667</td>\n",
              "    </tr>\n",
              "    <tr>\n",
              "      <th>2</th>\n",
              "      <td>18-39</td>\n",
              "      <td>3</td>\n",
              "      <td>3</td>\n",
              "      <td>3</td>\n",
              "      <td>Kipruto, Benson</td>\n",
              "      <td>Team–</td>\n",
              "      <td>5</td>\n",
              "      <td>1H 2M 19S</td>\n",
              "      <td>2H 6M 6S</td>\n",
              "      <td>2H 6M 6S</td>\n",
              "      <td>M</td>\n",
              "      <td>3739.0</td>\n",
              "      <td>7566</td>\n",
              "      <td>7566</td>\n",
              "      <td>126.100000</td>\n",
              "    </tr>\n",
              "    <tr>\n",
              "      <th>3</th>\n",
              "      <td>18-39</td>\n",
              "      <td>4</td>\n",
              "      <td>4</td>\n",
              "      <td>4</td>\n",
              "      <td>Korir, Albert</td>\n",
              "      <td>Team–</td>\n",
              "      <td>19</td>\n",
              "      <td>1H 2M 20S</td>\n",
              "      <td>2H 8M 1S</td>\n",
              "      <td>2H 8M 1S</td>\n",
              "      <td>M</td>\n",
              "      <td>3740.0</td>\n",
              "      <td>7681</td>\n",
              "      <td>7681</td>\n",
              "      <td>128.016667</td>\n",
              "    </tr>\n",
              "    <tr>\n",
              "      <th>4</th>\n",
              "      <td>18-39</td>\n",
              "      <td>5</td>\n",
              "      <td>5</td>\n",
              "      <td>5</td>\n",
              "      <td>Talbi, Zouhair</td>\n",
              "      <td>Team–</td>\n",
              "      <td>31</td>\n",
              "      <td>1H 2M 20S</td>\n",
              "      <td>2H 8M 35S</td>\n",
              "      <td>2H 8M 35S</td>\n",
              "      <td>M</td>\n",
              "      <td>3740.0</td>\n",
              "      <td>7715</td>\n",
              "      <td>7715</td>\n",
              "      <td>128.583333</td>\n",
              "    </tr>\n",
              "  </tbody>\n",
              "</table>\n",
              "</div>"
            ],
            "text/plain": [
              "  divisao_faixa  posicao_geral  posicao_genero  posicao_faixa  \\\n",
              "0         18-39              1               1              1   \n",
              "1         18-39              2               2              2   \n",
              "2         18-39              3               3              3   \n",
              "3         18-39              4               4              4   \n",
              "4         18-39              5               5              5   \n",
              "\n",
              "              nome equipe numero_peito tempo_meia_maratona  \\\n",
              "0    Chebet, Evans  Team–            1           1H 2M 20S   \n",
              "1    Geay, Gabriel  Team–            3           1H 2M 20S   \n",
              "2  Kipruto, Benson  Team–            5           1H 2M 19S   \n",
              "3    Korir, Albert  Team–           19           1H 2M 20S   \n",
              "4   Talbi, Zouhair  Team–           31           1H 2M 20S   \n",
              "\n",
              "  tempo_liquido_maratona tempo_bruto_maratona genero  \\\n",
              "0              2H 5M 54S            2H 5M 54S      M   \n",
              "1               2H 6M 4S             2H 6M 4S      M   \n",
              "2               2H 6M 6S             2H 6M 6S      M   \n",
              "3               2H 8M 1S             2H 8M 1S      M   \n",
              "4              2H 8M 35S            2H 8M 35S      M   \n",
              "\n",
              "   tempo_meia_maratona_segundos  tempo_liquido_maratona_segundos  \\\n",
              "0                        3740.0                             7554   \n",
              "1                        3740.0                             7564   \n",
              "2                        3739.0                             7566   \n",
              "3                        3740.0                             7681   \n",
              "4                        3740.0                             7715   \n",
              "\n",
              "   tempo_bruto_maratona_segundos  tempo_liquido_maratona_minutos  \n",
              "0                           7554                      125.900000  \n",
              "1                           7564                      126.066667  \n",
              "2                           7566                      126.100000  \n",
              "3                           7681                      128.016667  \n",
              "4                           7715                      128.583333  "
            ]
          },
          "execution_count": 4,
          "metadata": {},
          "output_type": "execute_result"
        }
      ],
      "source": [
        "#@title Renomeando colunas\n",
        "\n",
        "maratona.columns = [\"divisao_faixa\", \"posicao_geral\", \"posicao_genero\", \"posicao_faixa\", \"nome\", \"equipe\", \"numero_peito\", \"tempo_meia_maratona\", \"tempo_liquido_maratona\", \"tempo_bruto_maratona\", \"genero\", \"tempo_meia_maratona_segundos\", \"tempo_liquido_maratona_segundos\", \"tempo_bruto_maratona_segundos\", \"tempo_liquido_maratona_minutos\"]\n",
        "maratona.head()"
      ]
    },
    {
      "cell_type": "code",
      "execution_count": 5,
      "metadata": {
        "colab": {
          "base_uri": "https://localhost:8080/",
          "height": 313
        },
        "id": "sRdJ8QmbXll3",
        "outputId": "252b9965-7d66-4f3e-c241-3126abb7cb02"
      },
      "outputs": [
        {
          "data": {
            "text/html": [
              "<div>\n",
              "<style scoped>\n",
              "    .dataframe tbody tr th:only-of-type {\n",
              "        vertical-align: middle;\n",
              "    }\n",
              "\n",
              "    .dataframe tbody tr th {\n",
              "        vertical-align: top;\n",
              "    }\n",
              "\n",
              "    .dataframe thead th {\n",
              "        text-align: right;\n",
              "    }\n",
              "</style>\n",
              "<table border=\"1\" class=\"dataframe\">\n",
              "  <thead>\n",
              "    <tr style=\"text-align: right;\">\n",
              "      <th></th>\n",
              "      <th>divisao_faixa</th>\n",
              "      <th>posicao_geral</th>\n",
              "      <th>posicao_genero</th>\n",
              "      <th>posicao_faixa</th>\n",
              "      <th>nome</th>\n",
              "      <th>equipe</th>\n",
              "      <th>numero_peito</th>\n",
              "      <th>tempo_meia_maratona</th>\n",
              "      <th>tempo_liquido_maratona</th>\n",
              "      <th>tempo_bruto_maratona</th>\n",
              "      <th>genero</th>\n",
              "      <th>tempo_meia_maratona_segundos</th>\n",
              "      <th>tempo_liquido_maratona_segundos</th>\n",
              "      <th>tempo_bruto_maratona_segundos</th>\n",
              "      <th>tempo_liquido_maratona_minutos</th>\n",
              "      <th>pace</th>\n",
              "    </tr>\n",
              "  </thead>\n",
              "  <tbody>\n",
              "    <tr>\n",
              "      <th>0</th>\n",
              "      <td>18-39</td>\n",
              "      <td>1</td>\n",
              "      <td>1</td>\n",
              "      <td>1</td>\n",
              "      <td>Chebet, Evans</td>\n",
              "      <td>Team–</td>\n",
              "      <td>1</td>\n",
              "      <td>1H 2M 20S</td>\n",
              "      <td>2H 5M 54S</td>\n",
              "      <td>2H 5M 54S</td>\n",
              "      <td>M</td>\n",
              "      <td>3740.0</td>\n",
              "      <td>7554</td>\n",
              "      <td>7554</td>\n",
              "      <td>125.900000</td>\n",
              "      <td>2.997619</td>\n",
              "    </tr>\n",
              "    <tr>\n",
              "      <th>1</th>\n",
              "      <td>18-39</td>\n",
              "      <td>2</td>\n",
              "      <td>2</td>\n",
              "      <td>2</td>\n",
              "      <td>Geay, Gabriel</td>\n",
              "      <td>Team–</td>\n",
              "      <td>3</td>\n",
              "      <td>1H 2M 20S</td>\n",
              "      <td>2H 6M 4S</td>\n",
              "      <td>2H 6M 4S</td>\n",
              "      <td>M</td>\n",
              "      <td>3740.0</td>\n",
              "      <td>7564</td>\n",
              "      <td>7564</td>\n",
              "      <td>126.066667</td>\n",
              "      <td>3.001587</td>\n",
              "    </tr>\n",
              "    <tr>\n",
              "      <th>2</th>\n",
              "      <td>18-39</td>\n",
              "      <td>3</td>\n",
              "      <td>3</td>\n",
              "      <td>3</td>\n",
              "      <td>Kipruto, Benson</td>\n",
              "      <td>Team–</td>\n",
              "      <td>5</td>\n",
              "      <td>1H 2M 19S</td>\n",
              "      <td>2H 6M 6S</td>\n",
              "      <td>2H 6M 6S</td>\n",
              "      <td>M</td>\n",
              "      <td>3739.0</td>\n",
              "      <td>7566</td>\n",
              "      <td>7566</td>\n",
              "      <td>126.100000</td>\n",
              "      <td>3.002381</td>\n",
              "    </tr>\n",
              "    <tr>\n",
              "      <th>3</th>\n",
              "      <td>18-39</td>\n",
              "      <td>4</td>\n",
              "      <td>4</td>\n",
              "      <td>4</td>\n",
              "      <td>Korir, Albert</td>\n",
              "      <td>Team–</td>\n",
              "      <td>19</td>\n",
              "      <td>1H 2M 20S</td>\n",
              "      <td>2H 8M 1S</td>\n",
              "      <td>2H 8M 1S</td>\n",
              "      <td>M</td>\n",
              "      <td>3740.0</td>\n",
              "      <td>7681</td>\n",
              "      <td>7681</td>\n",
              "      <td>128.016667</td>\n",
              "      <td>3.048016</td>\n",
              "    </tr>\n",
              "    <tr>\n",
              "      <th>4</th>\n",
              "      <td>18-39</td>\n",
              "      <td>5</td>\n",
              "      <td>5</td>\n",
              "      <td>5</td>\n",
              "      <td>Talbi, Zouhair</td>\n",
              "      <td>Team–</td>\n",
              "      <td>31</td>\n",
              "      <td>1H 2M 20S</td>\n",
              "      <td>2H 8M 35S</td>\n",
              "      <td>2H 8M 35S</td>\n",
              "      <td>M</td>\n",
              "      <td>3740.0</td>\n",
              "      <td>7715</td>\n",
              "      <td>7715</td>\n",
              "      <td>128.583333</td>\n",
              "      <td>3.061508</td>\n",
              "    </tr>\n",
              "  </tbody>\n",
              "</table>\n",
              "</div>"
            ],
            "text/plain": [
              "  divisao_faixa  posicao_geral  posicao_genero  posicao_faixa  \\\n",
              "0         18-39              1               1              1   \n",
              "1         18-39              2               2              2   \n",
              "2         18-39              3               3              3   \n",
              "3         18-39              4               4              4   \n",
              "4         18-39              5               5              5   \n",
              "\n",
              "              nome equipe numero_peito tempo_meia_maratona  \\\n",
              "0    Chebet, Evans  Team–            1           1H 2M 20S   \n",
              "1    Geay, Gabriel  Team–            3           1H 2M 20S   \n",
              "2  Kipruto, Benson  Team–            5           1H 2M 19S   \n",
              "3    Korir, Albert  Team–           19           1H 2M 20S   \n",
              "4   Talbi, Zouhair  Team–           31           1H 2M 20S   \n",
              "\n",
              "  tempo_liquido_maratona tempo_bruto_maratona genero  \\\n",
              "0              2H 5M 54S            2H 5M 54S      M   \n",
              "1               2H 6M 4S             2H 6M 4S      M   \n",
              "2               2H 6M 6S             2H 6M 6S      M   \n",
              "3               2H 8M 1S             2H 8M 1S      M   \n",
              "4              2H 8M 35S            2H 8M 35S      M   \n",
              "\n",
              "   tempo_meia_maratona_segundos  tempo_liquido_maratona_segundos  \\\n",
              "0                        3740.0                             7554   \n",
              "1                        3740.0                             7564   \n",
              "2                        3739.0                             7566   \n",
              "3                        3740.0                             7681   \n",
              "4                        3740.0                             7715   \n",
              "\n",
              "   tempo_bruto_maratona_segundos  tempo_liquido_maratona_minutos      pace  \n",
              "0                           7554                      125.900000  2.997619  \n",
              "1                           7564                      126.066667  3.001587  \n",
              "2                           7566                      126.100000  3.002381  \n",
              "3                           7681                      128.016667  3.048016  \n",
              "4                           7715                      128.583333  3.061508  "
            ]
          },
          "execution_count": 5,
          "metadata": {},
          "output_type": "execute_result"
        }
      ],
      "source": [
        "#@title Adicionando o 'Pace' à tabela\n",
        "\n",
        "maratona['pace'] = maratona['tempo_liquido_maratona_minutos'] / 42\n",
        "maratona.head()"
      ]
    },
    {
      "cell_type": "code",
      "execution_count": 6,
      "metadata": {
        "colab": {
          "base_uri": "https://localhost:8080/"
        },
        "id": "B3GQCVFZiMyy",
        "outputId": "d899143a-6ef6-4c76-d9da-b3cb1e9196ba"
      },
      "outputs": [
        {
          "name": "stdout",
          "output_type": "stream",
          "text": [
            "<class 'pandas.core.frame.DataFrame'>\n",
            "RangeIndex: 26598 entries, 0 to 26597\n",
            "Data columns (total 16 columns):\n",
            " #   Column                           Non-Null Count  Dtype  \n",
            "---  ------                           --------------  -----  \n",
            " 0   divisao_faixa                    26598 non-null  object \n",
            " 1   posicao_geral                    26598 non-null  int64  \n",
            " 2   posicao_genero                   26598 non-null  int64  \n",
            " 3   posicao_faixa                    26598 non-null  int64  \n",
            " 4   nome                             26598 non-null  object \n",
            " 5   equipe                           26598 non-null  object \n",
            " 6   numero_peito                     26598 non-null  object \n",
            " 7   tempo_meia_maratona              26526 non-null  object \n",
            " 8   tempo_liquido_maratona           26598 non-null  object \n",
            " 9   tempo_bruto_maratona             26598 non-null  object \n",
            " 10  genero                           26598 non-null  object \n",
            " 11  tempo_meia_maratona_segundos     26526 non-null  float64\n",
            " 12  tempo_liquido_maratona_segundos  26598 non-null  int64  \n",
            " 13  tempo_bruto_maratona_segundos    26598 non-null  int64  \n",
            " 14  tempo_liquido_maratona_minutos   26598 non-null  float64\n",
            " 15  pace                             26598 non-null  float64\n",
            "dtypes: float64(3), int64(5), object(8)\n",
            "memory usage: 3.2+ MB\n"
          ]
        }
      ],
      "source": [
        "#@title Visualização geral\n",
        "\n",
        "maratona.info()"
      ]
    },
    {
      "cell_type": "markdown",
      "metadata": {
        "id": "oo2dZWNsdAX-"
      },
      "source": [
        "## Análise do Pace e Gênero 👩‍🦱👨‍🦰\n",
        "\n",
        "> ### Motivação\n",
        ">- Como o pace difere entre homens e mulheres?\n",
        ">- Como o pace médio varia em diferentes faixas etárias para homens e mulheres?\n",
        ">- Qual é a distribuição percentual de homens e mulheres na maratona?\n",
        ">- Quantos indivíduos mais rápidos do gênero oposto?"
      ]
    },
    {
      "cell_type": "code",
      "execution_count": 7,
      "metadata": {
        "id": "xHwgFI1pWg5Q"
      },
      "outputs": [],
      "source": [
        "#@title Dividindo a população em 2 amostras\n",
        "\n",
        "homens = maratona[maratona['genero'] == 'M'].reset_index()\n",
        "mulheres = maratona[maratona['genero'] == 'W'].reset_index()"
      ]
    },
    {
      "cell_type": "code",
      "execution_count": 8,
      "metadata": {
        "colab": {
          "base_uri": "https://localhost:8080/",
          "height": 216
        },
        "id": "8TgIN0-Xc6xe",
        "outputId": "4b613282-06ea-46e9-f149-e47f936953be"
      },
      "outputs": [
        {
          "data": {
            "text/html": [
              "<div>\n",
              "<style scoped>\n",
              "    .dataframe tbody tr th:only-of-type {\n",
              "        vertical-align: middle;\n",
              "    }\n",
              "\n",
              "    .dataframe tbody tr th {\n",
              "        vertical-align: top;\n",
              "    }\n",
              "\n",
              "    .dataframe thead th {\n",
              "        text-align: right;\n",
              "    }\n",
              "</style>\n",
              "<table border=\"1\" class=\"dataframe\">\n",
              "  <thead>\n",
              "    <tr style=\"text-align: right;\">\n",
              "      <th></th>\n",
              "      <th>index</th>\n",
              "      <th>divisao_faixa</th>\n",
              "      <th>posicao_geral</th>\n",
              "      <th>posicao_genero</th>\n",
              "      <th>posicao_faixa</th>\n",
              "      <th>nome</th>\n",
              "      <th>equipe</th>\n",
              "      <th>numero_peito</th>\n",
              "      <th>tempo_meia_maratona</th>\n",
              "      <th>tempo_liquido_maratona</th>\n",
              "      <th>tempo_bruto_maratona</th>\n",
              "      <th>genero</th>\n",
              "      <th>tempo_meia_maratona_segundos</th>\n",
              "      <th>tempo_liquido_maratona_segundos</th>\n",
              "      <th>tempo_bruto_maratona_segundos</th>\n",
              "      <th>tempo_liquido_maratona_minutos</th>\n",
              "      <th>pace</th>\n",
              "    </tr>\n",
              "  </thead>\n",
              "  <tbody>\n",
              "    <tr>\n",
              "      <th>0</th>\n",
              "      <td>0</td>\n",
              "      <td>18-39</td>\n",
              "      <td>1</td>\n",
              "      <td>1</td>\n",
              "      <td>1</td>\n",
              "      <td>Chebet, Evans</td>\n",
              "      <td>Team–</td>\n",
              "      <td>1</td>\n",
              "      <td>1H 2M 20S</td>\n",
              "      <td>2H 5M 54S</td>\n",
              "      <td>2H 5M 54S</td>\n",
              "      <td>M</td>\n",
              "      <td>3740.0</td>\n",
              "      <td>7554</td>\n",
              "      <td>7554</td>\n",
              "      <td>125.900000</td>\n",
              "      <td>2.997619</td>\n",
              "    </tr>\n",
              "    <tr>\n",
              "      <th>1</th>\n",
              "      <td>1</td>\n",
              "      <td>18-39</td>\n",
              "      <td>2</td>\n",
              "      <td>2</td>\n",
              "      <td>2</td>\n",
              "      <td>Geay, Gabriel</td>\n",
              "      <td>Team–</td>\n",
              "      <td>3</td>\n",
              "      <td>1H 2M 20S</td>\n",
              "      <td>2H 6M 4S</td>\n",
              "      <td>2H 6M 4S</td>\n",
              "      <td>M</td>\n",
              "      <td>3740.0</td>\n",
              "      <td>7564</td>\n",
              "      <td>7564</td>\n",
              "      <td>126.066667</td>\n",
              "      <td>3.001587</td>\n",
              "    </tr>\n",
              "    <tr>\n",
              "      <th>2</th>\n",
              "      <td>2</td>\n",
              "      <td>18-39</td>\n",
              "      <td>3</td>\n",
              "      <td>3</td>\n",
              "      <td>3</td>\n",
              "      <td>Kipruto, Benson</td>\n",
              "      <td>Team–</td>\n",
              "      <td>5</td>\n",
              "      <td>1H 2M 19S</td>\n",
              "      <td>2H 6M 6S</td>\n",
              "      <td>2H 6M 6S</td>\n",
              "      <td>M</td>\n",
              "      <td>3739.0</td>\n",
              "      <td>7566</td>\n",
              "      <td>7566</td>\n",
              "      <td>126.100000</td>\n",
              "      <td>3.002381</td>\n",
              "    </tr>\n",
              "  </tbody>\n",
              "</table>\n",
              "</div>"
            ],
            "text/plain": [
              "   index divisao_faixa  posicao_geral  posicao_genero  posicao_faixa  \\\n",
              "0      0         18-39              1               1              1   \n",
              "1      1         18-39              2               2              2   \n",
              "2      2         18-39              3               3              3   \n",
              "\n",
              "              nome equipe numero_peito tempo_meia_maratona  \\\n",
              "0    Chebet, Evans  Team–            1           1H 2M 20S   \n",
              "1    Geay, Gabriel  Team–            3           1H 2M 20S   \n",
              "2  Kipruto, Benson  Team–            5           1H 2M 19S   \n",
              "\n",
              "  tempo_liquido_maratona tempo_bruto_maratona genero  \\\n",
              "0              2H 5M 54S            2H 5M 54S      M   \n",
              "1               2H 6M 4S             2H 6M 4S      M   \n",
              "2               2H 6M 6S             2H 6M 6S      M   \n",
              "\n",
              "   tempo_meia_maratona_segundos  tempo_liquido_maratona_segundos  \\\n",
              "0                        3740.0                             7554   \n",
              "1                        3740.0                             7564   \n",
              "2                        3739.0                             7566   \n",
              "\n",
              "   tempo_bruto_maratona_segundos  tempo_liquido_maratona_minutos      pace  \n",
              "0                           7554                      125.900000  2.997619  \n",
              "1                           7564                      126.066667  3.001587  \n",
              "2                           7566                      126.100000  3.002381  "
            ]
          },
          "execution_count": 8,
          "metadata": {},
          "output_type": "execute_result"
        }
      ],
      "source": [
        "#@title 1ª Amostra - Homens\n",
        "homens.head(3)"
      ]
    },
    {
      "cell_type": "code",
      "execution_count": 9,
      "metadata": {
        "colab": {
          "base_uri": "https://localhost:8080/",
          "height": 216
        },
        "id": "RVL_GzIIdCfj",
        "outputId": "3b5eb1d4-8bc9-42f2-d0eb-18487d6d5edc"
      },
      "outputs": [
        {
          "data": {
            "text/html": [
              "<div>\n",
              "<style scoped>\n",
              "    .dataframe tbody tr th:only-of-type {\n",
              "        vertical-align: middle;\n",
              "    }\n",
              "\n",
              "    .dataframe tbody tr th {\n",
              "        vertical-align: top;\n",
              "    }\n",
              "\n",
              "    .dataframe thead th {\n",
              "        text-align: right;\n",
              "    }\n",
              "</style>\n",
              "<table border=\"1\" class=\"dataframe\">\n",
              "  <thead>\n",
              "    <tr style=\"text-align: right;\">\n",
              "      <th></th>\n",
              "      <th>index</th>\n",
              "      <th>divisao_faixa</th>\n",
              "      <th>posicao_geral</th>\n",
              "      <th>posicao_genero</th>\n",
              "      <th>posicao_faixa</th>\n",
              "      <th>nome</th>\n",
              "      <th>equipe</th>\n",
              "      <th>numero_peito</th>\n",
              "      <th>tempo_meia_maratona</th>\n",
              "      <th>tempo_liquido_maratona</th>\n",
              "      <th>tempo_bruto_maratona</th>\n",
              "      <th>genero</th>\n",
              "      <th>tempo_meia_maratona_segundos</th>\n",
              "      <th>tempo_liquido_maratona_segundos</th>\n",
              "      <th>tempo_bruto_maratona_segundos</th>\n",
              "      <th>tempo_liquido_maratona_minutos</th>\n",
              "      <th>pace</th>\n",
              "    </tr>\n",
              "  </thead>\n",
              "  <tbody>\n",
              "    <tr>\n",
              "      <th>0</th>\n",
              "      <td>15175</td>\n",
              "      <td>18-39</td>\n",
              "      <td>36</td>\n",
              "      <td>1</td>\n",
              "      <td>1</td>\n",
              "      <td>Obiri, Hellen</td>\n",
              "      <td>Team–</td>\n",
              "      <td>122</td>\n",
              "      <td>1H 11M 29S</td>\n",
              "      <td>2H 21M 38S</td>\n",
              "      <td>2H 21M 38S</td>\n",
              "      <td>W</td>\n",
              "      <td>4289.0</td>\n",
              "      <td>8498</td>\n",
              "      <td>8498</td>\n",
              "      <td>141.633333</td>\n",
              "      <td>3.372222</td>\n",
              "    </tr>\n",
              "    <tr>\n",
              "      <th>1</th>\n",
              "      <td>15176</td>\n",
              "      <td>18-39</td>\n",
              "      <td>40</td>\n",
              "      <td>2</td>\n",
              "      <td>2</td>\n",
              "      <td>Beriso, Amane</td>\n",
              "      <td>Team–</td>\n",
              "      <td>102</td>\n",
              "      <td>1H 11M 30S</td>\n",
              "      <td>2H 21M 50S</td>\n",
              "      <td>2H 21M 50S</td>\n",
              "      <td>W</td>\n",
              "      <td>4290.0</td>\n",
              "      <td>8510</td>\n",
              "      <td>8510</td>\n",
              "      <td>141.833333</td>\n",
              "      <td>3.376984</td>\n",
              "    </tr>\n",
              "    <tr>\n",
              "      <th>2</th>\n",
              "      <td>15177</td>\n",
              "      <td>18-39</td>\n",
              "      <td>41</td>\n",
              "      <td>3</td>\n",
              "      <td>3</td>\n",
              "      <td>Salpeter, Lonah</td>\n",
              "      <td>Team–</td>\n",
              "      <td>105</td>\n",
              "      <td>1H 11M 29S</td>\n",
              "      <td>2H 21M 57S</td>\n",
              "      <td>2H 21M 57S</td>\n",
              "      <td>W</td>\n",
              "      <td>4289.0</td>\n",
              "      <td>8517</td>\n",
              "      <td>8517</td>\n",
              "      <td>141.950000</td>\n",
              "      <td>3.379762</td>\n",
              "    </tr>\n",
              "  </tbody>\n",
              "</table>\n",
              "</div>"
            ],
            "text/plain": [
              "   index divisao_faixa  posicao_geral  posicao_genero  posicao_faixa  \\\n",
              "0  15175         18-39             36               1              1   \n",
              "1  15176         18-39             40               2              2   \n",
              "2  15177         18-39             41               3              3   \n",
              "\n",
              "              nome equipe numero_peito tempo_meia_maratona  \\\n",
              "0    Obiri, Hellen  Team–          122          1H 11M 29S   \n",
              "1    Beriso, Amane  Team–          102          1H 11M 30S   \n",
              "2  Salpeter, Lonah  Team–          105          1H 11M 29S   \n",
              "\n",
              "  tempo_liquido_maratona tempo_bruto_maratona genero  \\\n",
              "0             2H 21M 38S           2H 21M 38S      W   \n",
              "1             2H 21M 50S           2H 21M 50S      W   \n",
              "2             2H 21M 57S           2H 21M 57S      W   \n",
              "\n",
              "   tempo_meia_maratona_segundos  tempo_liquido_maratona_segundos  \\\n",
              "0                        4289.0                             8498   \n",
              "1                        4290.0                             8510   \n",
              "2                        4289.0                             8517   \n",
              "\n",
              "   tempo_bruto_maratona_segundos  tempo_liquido_maratona_minutos      pace  \n",
              "0                           8498                      141.633333  3.372222  \n",
              "1                           8510                      141.833333  3.376984  \n",
              "2                           8517                      141.950000  3.379762  "
            ]
          },
          "execution_count": 9,
          "metadata": {},
          "output_type": "execute_result"
        }
      ],
      "source": [
        "#@title 2ª Amostra - Mulheres\n",
        "mulheres.head(3)"
      ]
    },
    {
      "cell_type": "code",
      "execution_count": 10,
      "metadata": {
        "colab": {
          "base_uri": "https://localhost:8080/",
          "height": 444
        },
        "id": "E_AKlsXq3y6E",
        "outputId": "32a671c8-2ec3-46c6-bdeb-f91921ad0a27"
      },
      "outputs": [
        {
          "data": {
            "image/png": "[encoded data removed]",
            "text/plain": [
              "<Figure size 500x500 with 1 Axes>"
            ]
          },
          "metadata": {},
          "output_type": "display_data"
        }
      ],
      "source": [
        "#@title Frequência de Gêneros\n",
        "df = maratona['genero'].value_counts()\n",
        "\n",
        "# configura gráfico\n",
        "df.plot(kind='pie', autopct='%1.1f%%', labels=['Masculino','Feminino'],  startangle=90, figsize=(5, 5), colors=['skyblue', 'lightcoral'], wedgeprops=dict(width=0.3))\n",
        "\n",
        "# rótulos do gráfico\n",
        "plt.title(\"Frequência de Gêneros\")\n",
        "plt.ylabel(\"\")\n",
        "\n",
        "# mostrar gráfico\n",
        "plt.show()"
      ]
    },
    {
      "cell_type": "code",
      "execution_count": 11,
      "metadata": {
        "colab": {
          "base_uri": "https://localhost:8080/"
        },
        "id": "pLPDHfrZj00A",
        "outputId": "082e54c9-3cf3-4a1d-b914-e5ea4b0aecd4"
      },
      "outputs": [
        {
          "name": "stdout",
          "output_type": "stream",
          "text": [
            "Média Pace:\n",
            "Para todos: 5.298070209360532\n",
            "Para homens: 5.057744645799011\n",
            "Para mulheres: 5.617333137404485\n"
          ]
        }
      ],
      "source": [
        "#@title Média do pace geral e por gênero\n",
        "\n",
        "mp_todos = maratona['pace'].mean()\n",
        "mp_homens = homens['pace'].mean()\n",
        "mp_mulheres = mulheres['pace'].mean()\n",
        "\n",
        "print(f'Média Pace:\\nPara todos: {mp_todos}\\nPara homens: {mp_homens}\\nPara mulheres: {mp_mulheres}')\n"
      ]
    },
    {
      "cell_type": "code",
      "execution_count": 12,
      "metadata": {
        "colab": {
          "base_uri": "https://localhost:8080/",
          "height": 496
        },
        "id": "9nZBWd3IA5nh",
        "outputId": "a3a3de68-087b-4dd5-b9f6-2ada89725594"
      },
      "outputs": [
        {
          "data": {
            "image/png": "[encoded data removed]",
            "text/plain": [
              "<Figure size 800x500 with 1 Axes>"
            ]
          },
          "metadata": {},
          "output_type": "display_data"
        }
      ],
      "source": [
        "#@title Densidade da média do pace geral e por gênero\n",
        "\n",
        "# configuração do gráfico\n",
        "plt.figure(figsize=(8, 5))\n",
        "sns.set(style=\"whitegrid\")\n",
        "\n",
        "# densidade da média do pace\n",
        "sns.kdeplot(maratona['pace'], color='skyblue', fill=True)\n",
        "\n",
        "# linha vertical para média geral\n",
        "plt.axvline(mp_todos, color='red', linestyle='dashed', linewidth=2, label='Média Geral')\n",
        "\n",
        "# média do pace para homens\n",
        "plt.axvline(mp_homens, color='orange', linestyle='dashed', linewidth=2, label='Média Homens')\n",
        "\n",
        "# média do pace para mulheres\n",
        "plt.axvline(mp_mulheres, color='purple', linestyle='dashed', linewidth=2, label='Média Mulheres')\n",
        "\n",
        "# rótulos do gráfico\n",
        "plt.title('Gráfico de Densidade do Pace com Linhas Verticais')\n",
        "plt.xlabel('Pace')\n",
        "plt.ylabel('Densidade')\n",
        "plt.legend()\n",
        "\n",
        "# mostrar gráfico\n",
        "plt.show()\n"
      ]
    },
    {
      "cell_type": "code",
      "execution_count": 13,
      "metadata": {
        "colab": {
          "base_uri": "https://localhost:8080/"
        },
        "id": "vRFlgBbfqA-M",
        "outputId": "8433d447-03f4-4294-f99a-e6e984ac450e"
      },
      "outputs": [
        {
          "name": "stdout",
          "output_type": "stream",
          "text": [
            "Desvio padrão 1.0417826762984979\n"
          ]
        }
      ],
      "source": [
        "#@title desvio padrão\n",
        "dp_todos = maratona['pace'].std()\n",
        "print('Desvio padrão', dp_todos)"
      ]
    },
    {
      "cell_type": "code",
      "execution_count": 16,
      "metadata": {
        "colab": {
          "base_uri": "https://localhost:8080/",
          "height": 627
        },
        "id": "pQBfxBVhg9FI",
        "outputId": "672b7751-dc3f-4e86-a8f7-3888fe01d016"
      },
      "outputs": [
        {
          "name": "stderr",
          "output_type": "stream",
          "text": [
            "C:\\Users\\Luiza\\AppData\\Local\\Temp\\ipykernel_12048\\80866208.py:9: FutureWarning: \n",
            "\n",
            "`shade` is now deprecated in favor of `fill`; setting `fill=True`.\n",
            "This will become an error in seaborn v0.14.0; please update your code.\n",
            "\n",
            "  sns.kdeplot(homens['pace'], shade=True, color='skyblue', label='Homens');\n",
            "C:\\Users\\Luiza\\AppData\\Local\\Temp\\ipykernel_12048\\80866208.py:11: FutureWarning: \n",
            "\n",
            "`shade` is now deprecated in favor of `fill`; setting `fill=True`.\n",
            "This will become an error in seaborn v0.14.0; please update your code.\n",
            "\n",
            "  sns.kdeplot(mulheres['pace'], shade=True, color='lightcoral', label='Mulheres');\n"
          ]
        },
        {
          "data": {
            "image/png": "[encoded data removed]",
            "text/plain": [
              "<Figure size 700x400 with 1 Axes>"
            ]
          },
          "metadata": {},
          "output_type": "display_data"
        }
      ],
      "source": [
        "#title Densidade do pace por gênero\n",
        "\n",
        "# configuração do gráfico\n",
        "plt.figure(figsize=(7, 4))\n",
        "sns.set(style=\"whitegrid\")\n",
        "\n",
        "# gráfico de densidade\n",
        "## para homens\n",
        "sns.kdeplot(homens['pace'], shade=True, color='skyblue', label='Homens')\n",
        "## para mulheres\n",
        "sns.kdeplot(mulheres['pace'], shade=True, color='lightcoral', label='Mulheres')\n",
        "\n",
        "# linhas verticais com informações da média geral\n",
        "plt.axvline(mp_todos, color='plum', linestyle='dashed', linewidth=2, label='Média Geral')\n",
        "plt.axvline((mp_todos + dp_todos), color='purple', linestyle='dashed', linewidth=2, label='Desvio Padrão')\n",
        "plt.axvline((mp_todos - dp_todos), color='purple', linestyle='dashed', linewidth=2)\n",
        "\n",
        "# rótulos do gráfico\n",
        "plt.title('Distribuição de Densidade do Pace por Gênero')\n",
        "plt.xlabel('Pace')\n",
        "plt.ylabel('Densidade')\n",
        "plt.legend()\n",
        "\n",
        "# mostra o gráfico\n",
        "plt.show();"
      ]
    },
    {
      "cell_type": "code",
      "execution_count": null,
      "metadata": {
        "colab": {
          "base_uri": "https://localhost:8080/"
        },
        "id": "zLj1ZQkTWirV",
        "outputId": "979b39e3-a319-4f04-f630-e40a0c94cb46"
      },
      "outputs": [
        {
          "name": "stdout",
          "output_type": "stream",
          "text": [
            "Número total de homens: 15175 e Número total de mulheres: 11423\n",
            "\n",
            "Homens com pace menor que mulheres: 10184 (de um total de 11423 homens)\n",
            "Mulheres com pace menor que homens: 1239 (de um total de 11423 mulheres)\n"
          ]
        }
      ],
      "source": [
        "#@title Contagem de indivíduos com o pace menor por gênero\n",
        "\n",
        "## pegando o mesmo número de elementos para os homens\n",
        "tm_homens= homens.head(len(mulheres))\n",
        "\n",
        "# homens com pace menor que mulheres\n",
        "qt_homens_menor = (tm_homens['pace'] < mulheres['pace']).sum()\n",
        "\n",
        "# mulheres com pace menor que homens\n",
        "qt_mulheres_menor = (mulheres['pace'] < tm_homens['pace']).sum()\n",
        "\n",
        "print(f'Número total de homens: {len(homens)} e Número total de mulheres: {len(mulheres)}\\n')\n",
        "print(f'Homens com pace menor que mulheres: {qt_homens_menor} (de um total de {len(tm_homens)} homens)')\n",
        "print(f'Mulheres com pace menor que homens: {qt_mulheres_menor} (de um total de {len(mulheres)} mulheres)')"
      ]
    },
    {
      "cell_type": "code",
      "execution_count": null,
      "metadata": {
        "colab": {
          "base_uri": "https://localhost:8080/"
        },
        "id": "VSgR8bWaE02j",
        "outputId": "42190a66-0d1e-407c-fd92-c84811b59dc4"
      },
      "outputs": [
        {
          "name": "stdout",
          "output_type": "stream",
          "text": [
            "Média do pace por faixa etária:\n",
            "Para todos:   divisao_faixa      pace\n",
            "0         18-39  5.037818\n",
            "1         40-44  5.134520\n",
            "2         45-49  5.278441\n",
            "3         50-54  5.474871\n",
            "4         55-59  5.652182\n",
            "5         60-64  5.856056\n",
            "6         65-69  6.153434\n",
            "7         70-74  6.557524\n",
            "8         75-79  7.055347\n",
            "9           80+  7.169127\n",
            "Para homens:   divisao_faixa      pace\n",
            "0         18-39  4.678720\n",
            "1         40-44  4.833377\n",
            "2         45-49  5.006103\n",
            "3         50-54  5.269526\n",
            "4         55-59  5.435386\n",
            "5         60-64  5.709755\n",
            "6         65-69  6.022541\n",
            "7         70-74  6.432884\n",
            "8         75-79  7.055151\n",
            "9           80+  7.092989\n",
            "Para mulheres:   divisao_faixa      pace\n",
            "0         18-39  5.426327\n",
            "1         40-44  5.493871\n",
            "2         45-49  5.615978\n",
            "3         50-54  5.823973\n",
            "4         55-59  6.030443\n",
            "5         60-64  6.164204\n",
            "6         65-69  6.478595\n",
            "7         70-74  6.985721\n",
            "8         75-79  7.056310\n",
            "9           80+  7.283333\n"
          ]
        }
      ],
      "source": [
        "#@title Média do pace por faixa etária\n",
        "\n",
        "# para todos\n",
        "mpf_todos = maratona.groupby('divisao_faixa')['pace'].mean().reset_index()\n",
        "\n",
        "# para homens\n",
        "mpf_homens = homens.groupby('divisao_faixa')['pace'].mean().reset_index()\n",
        "\n",
        "# para mulheres\n",
        "mpf_mulheres = mulheres.groupby('divisao_faixa')['pace'].mean().reset_index()\n",
        "\n",
        "print(f'Média do pace por faixa etária:\\nPara todos: {mpf_todos}\\nPara homens: {mpf_homens}\\nPara mulheres: {mpf_mulheres}')"
      ]
    },
    {
      "cell_type": "code",
      "execution_count": null,
      "metadata": {
        "colab": {
          "base_uri": "https://localhost:8080/",
          "height": 425
        },
        "id": "0utO_H0dp8Ul",
        "outputId": "3d226d11-ead0-432c-fcef-b9ec17e6bf7a"
      },
      "outputs": [
        {
          "data": {
            "image/png": "[encoded data removed]",
            "text/plain": [
              "<Figure size 800x400 with 1 Axes>"
            ]
          },
          "metadata": {},
          "output_type": "display_data"
        }
      ],
      "source": [
        "#@title Pace médio por faixa etária e gênero\n",
        "\n",
        "# figura e eixo\n",
        "fig, ax = plt.subplots(figsize=(10, 5), facecolor='white', dpi=80)\n",
        "\n",
        "# Adicionar as barras verticais representando a média de pace para mulheres e homens\n",
        "ax.vlines(x=mpf_mulheres.index, ymin=0, ymax=mpf_mulheres['pace'], color='lightcoral', alpha=1, linewidth=20, label='Mulheres')\n",
        "ax.vlines(x=mpf_homens.index, ymin=0, ymax=mpf_homens['pace'], color='skyblue', alpha=0.7, linewidth=20, label='Homens')\n",
        "\n",
        "# parâmetros do eixo horizontal\n",
        "plt.xticks(mpf_homens.index, mpf_homens['divisao_faixa'], rotation=60, horizontalalignment='right', fontsize=12)\n",
        "\n",
        "ax.set(ylabel='Pace', ylim=(0, 10))\n",
        "ax.set(xlabel='Divisão Faixa (índices)')\n",
        "\n",
        "plt.legend()\n",
        "plt.title('Pace médio por faixa etária e gênero')\n",
        "plt.show()"
      ]
    },
    {
      "cell_type": "markdown",
      "metadata": {
        "id": "Vn4VVXejHZvc"
      },
      "source": [
        "## Análise Pace e Equipes de corrida 👭\n",
        "\n",
        "> ## Motivação\n",
        ">- Qual a equipe mais veloz?\n",
        ">- Ter uma equipe te torna mais veloz?\n",
        ">- Qual o percentual de corredores com e sem equipe?\n",
        ">- Como difere o pace entre corredores com e sem equpe?"
      ]
    },
    {
      "cell_type": "code",
      "execution_count": null,
      "metadata": {
        "id": "CtQakXP2lfkg"
      },
      "outputs": [],
      "source": [
        "#@title Dividindo a população em 2 amostras\n",
        "\n",
        "sem_equipe = maratona[maratona['equipe'] == 'Team–'].reset_index()\n",
        "com_equipe = maratona[maratona['equipe'] != 'Team–'].reset_index()"
      ]
    },
    {
      "cell_type": "code",
      "execution_count": null,
      "metadata": {
        "colab": {
          "base_uri": "https://localhost:8080/",
          "height": 285
        },
        "id": "jWv9j7wm9UXF",
        "outputId": "d3d27c96-025a-4612-855d-220e305e1938"
      },
      "outputs": [
        {
          "data": {
            "text/html": [
              "\n",
              "  <div id=\"df-b86c373c-aa73-4925-8f3d-275e930e8213\" class=\"colab-df-container\">\n",
              "    <div>\n",
              "<style scoped>\n",
              "    .dataframe tbody tr th:only-of-type {\n",
              "        vertical-align: middle;\n",
              "    }\n",
              "\n",
              "    .dataframe tbody tr th {\n",
              "        vertical-align: top;\n",
              "    }\n",
              "\n",
              "    .dataframe thead th {\n",
              "        text-align: right;\n",
              "    }\n",
              "</style>\n",
              "<table border=\"1\" class=\"dataframe\">\n",
              "  <thead>\n",
              "    <tr style=\"text-align: right;\">\n",
              "      <th></th>\n",
              "      <th>index</th>\n",
              "      <th>divisao_faixa</th>\n",
              "      <th>posicao_geral</th>\n",
              "      <th>posicao_genero</th>\n",
              "      <th>posicao_faixa</th>\n",
              "      <th>nome</th>\n",
              "      <th>equipe</th>\n",
              "      <th>numero_peito</th>\n",
              "      <th>tempo_meia_maratona</th>\n",
              "      <th>tempo_liquido_maratona</th>\n",
              "      <th>tempo_bruto_maratona</th>\n",
              "      <th>genero</th>\n",
              "      <th>tempo_meia_maratona_segundos</th>\n",
              "      <th>tempo_liquido_maratona_segundos</th>\n",
              "      <th>tempo_bruto_maratona_segundos</th>\n",
              "      <th>tempo_liquido_maratona_minutos</th>\n",
              "      <th>pace</th>\n",
              "    </tr>\n",
              "  </thead>\n",
              "  <tbody>\n",
              "    <tr>\n",
              "      <th>0</th>\n",
              "      <td>9</td>\n",
              "      <td>18-39</td>\n",
              "      <td>10</td>\n",
              "      <td>10</td>\n",
              "      <td>10</td>\n",
              "      <td>Mcdonald, Matthew</td>\n",
              "      <td>TeamBoston Athletic Association</td>\n",
              "      <td>24</td>\n",
              "      <td>1H 3M 59S</td>\n",
              "      <td>2H 10M 17S</td>\n",
              "      <td>2H 10M 17S</td>\n",
              "      <td>M</td>\n",
              "      <td>3839.0</td>\n",
              "      <td>7817</td>\n",
              "      <td>7817</td>\n",
              "      <td>130.283333</td>\n",
              "      <td>3.101984</td>\n",
              "    </tr>\n",
              "    <tr>\n",
              "      <th>1</th>\n",
              "      <td>16</td>\n",
              "      <td>18-39</td>\n",
              "      <td>17</td>\n",
              "      <td>17</td>\n",
              "      <td>17</td>\n",
              "      <td>Flavin, Jp</td>\n",
              "      <td>TeamHansons-Brooks Distance Project</td>\n",
              "      <td>48</td>\n",
              "      <td>1H 5M 40S</td>\n",
              "      <td>2H 13M 27S</td>\n",
              "      <td>2H 13M 27S</td>\n",
              "      <td>M</td>\n",
              "      <td>3940.0</td>\n",
              "      <td>8007</td>\n",
              "      <td>8007</td>\n",
              "      <td>133.450000</td>\n",
              "      <td>3.177381</td>\n",
              "    </tr>\n",
              "    <tr>\n",
              "      <th>2</th>\n",
              "      <td>24</td>\n",
              "      <td>18-39</td>\n",
              "      <td>25</td>\n",
              "      <td>25</td>\n",
              "      <td>25</td>\n",
              "      <td>Hampton, Jonas</td>\n",
              "      <td>TeamBoston Athletic Association</td>\n",
              "      <td>28</td>\n",
              "      <td>1H 5M 33S</td>\n",
              "      <td>2H 17M 5S</td>\n",
              "      <td>2H 17M 5S</td>\n",
              "      <td>M</td>\n",
              "      <td>3933.0</td>\n",
              "      <td>8225</td>\n",
              "      <td>8225</td>\n",
              "      <td>137.083333</td>\n",
              "      <td>3.263889</td>\n",
              "    </tr>\n",
              "  </tbody>\n",
              "</table>\n",
              "</div>\n",
              "    <div class=\"colab-df-buttons\">\n",
              "\n",
              "  <div class=\"colab-df-container\">\n",
              "    <button class=\"colab-df-convert\" onclick=\"convertToInteractive('df-b86c373c-aa73-4925-8f3d-275e930e8213')\"\n",
              "            title=\"Convert this dataframe to an interactive table.\"\n",
              "            style=\"display:none;\">\n",
              "\n",
              "  <svg xmlns=\"http://www.w3.org/2000/svg\" height=\"24px\" viewBox=\"0 -960 960 960\">\n",
              "    <path d=\"M120-120v-720h720v720H120Zm60-500h600v-160H180v160Zm220 220h160v-160H400v160Zm0 220h160v-160H400v160ZM180-400h160v-160H180v160Zm440 0h160v-160H620v160ZM180-180h160v-160H180v160Zm440 0h160v-160H620v160Z\"/>\n",
              "  </svg>\n",
              "    </button>\n",
              "\n",
              "  <style>\n",
              "    .colab-df-container {\n",
              "      display:flex;\n",
              "      gap: 12px;\n",
              "    }\n",
              "\n",
              "    .colab-df-convert {\n",
              "      background-color: #E8F0FE;\n",
              "      border: none;\n",
              "      border-radius: 50%;\n",
              "      cursor: pointer;\n",
              "      display: none;\n",
              "      fill: #1967D2;\n",
              "      height: 32px;\n",
              "      padding: 0 0 0 0;\n",
              "      width: 32px;\n",
              "    }\n",
              "\n",
              "    .colab-df-convert:hover {\n",
              "      background-color: #E2EBFA;\n",
              "      box-shadow: 0px 1px 2px rgba(60, 64, 67, 0.3), 0px 1px 3px 1px rgba(60, 64, 67, 0.15);\n",
              "      fill: #174EA6;\n",
              "    }\n",
              "\n",
              "    .colab-df-buttons div {\n",
              "      margin-bottom: 4px;\n",
              "    }\n",
              "\n",
              "    [theme=dark] .colab-df-convert {\n",
              "      background-color: #3B4455;\n",
              "      fill: #D2E3FC;\n",
              "    }\n",
              "\n",
              "    [theme=dark] .colab-df-convert:hover {\n",
              "      background-color: #434B5C;\n",
              "      box-shadow: 0px 1px 3px 1px rgba(0, 0, 0, 0.15);\n",
              "      filter: drop-shadow(0px 1px 2px rgba(0, 0, 0, 0.3));\n",
              "      fill: #FFFFFF;\n",
              "    }\n",
              "  </style>\n",
              "\n",
              "    <script>\n",
              "      const buttonEl =\n",
              "        document.querySelector('#df-b86c373c-aa73-4925-8f3d-275e930e8213 button.colab-df-convert');\n",
              "      buttonEl.style.display =\n",
              "        google.colab.kernel.accessAllowed ? 'block' : 'none';\n",
              "\n",
              "      async function convertToInteractive(key) {\n",
              "        const element = document.querySelector('#df-b86c373c-aa73-4925-8f3d-275e930e8213');\n",
              "        const dataTable =\n",
              "          await google.colab.kernel.invokeFunction('convertToInteractive',\n",
              "                                                    [key], {});\n",
              "        if (!dataTable) return;\n",
              "\n",
              "        const docLinkHtml = 'Like what you see? Visit the ' +\n",
              "          '<a target=\"_blank\" href=https://colab.research.google.com/notebooks/data_table.ipynb>data table notebook</a>'\n",
              "          + ' to learn more about interactive tables.';\n",
              "        element.innerHTML = '';\n",
              "        dataTable['output_type'] = 'display_data';\n",
              "        await google.colab.output.renderOutput(dataTable, element);\n",
              "        const docLink = document.createElement('div');\n",
              "        docLink.innerHTML = docLinkHtml;\n",
              "        element.appendChild(docLink);\n",
              "      }\n",
              "    </script>\n",
              "  </div>\n",
              "\n",
              "\n",
              "<div id=\"df-681667a8-55e6-44d6-87d4-12ec0420e4e9\">\n",
              "  <button class=\"colab-df-quickchart\" onclick=\"quickchart('df-681667a8-55e6-44d6-87d4-12ec0420e4e9')\"\n",
              "            title=\"Suggest charts\"\n",
              "            style=\"display:none;\">\n",
              "\n",
              "<svg xmlns=\"http://www.w3.org/2000/svg\" height=\"24px\"viewBox=\"0 0 24 24\"\n",
              "     width=\"24px\">\n",
              "    <g>\n",
              "        <path d=\"M19 3H5c-1.1 0-2 .9-2 2v14c0 1.1.9 2 2 2h14c1.1 0 2-.9 2-2V5c0-1.1-.9-2-2-2zM9 17H7v-7h2v7zm4 0h-2V7h2v10zm4 0h-2v-4h2v4z\"/>\n",
              "    </g>\n",
              "</svg>\n",
              "  </button>\n",
              "\n",
              "<style>\n",
              "  .colab-df-quickchart {\n",
              "      --bg-color: #E8F0FE;\n",
              "      --fill-color: #1967D2;\n",
              "      --hover-bg-color: #E2EBFA;\n",
              "      --hover-fill-color: #174EA6;\n",
              "      --disabled-fill-color: #AAA;\n",
              "      --disabled-bg-color: #DDD;\n",
              "  }\n",
              "\n",
              "  [theme=dark] .colab-df-quickchart {\n",
              "      --bg-color: #3B4455;\n",
              "      --fill-color: #D2E3FC;\n",
              "      --hover-bg-color: #434B5C;\n",
              "      --hover-fill-color: #FFFFFF;\n",
              "      --disabled-bg-color: #3B4455;\n",
              "      --disabled-fill-color: #666;\n",
              "  }\n",
              "\n",
              "  .colab-df-quickchart {\n",
              "    background-color: var(--bg-color);\n",
              "    border: none;\n",
              "    border-radius: 50%;\n",
              "    cursor: pointer;\n",
              "    display: none;\n",
              "    fill: var(--fill-color);\n",
              "    height: 32px;\n",
              "    padding: 0;\n",
              "    width: 32px;\n",
              "  }\n",
              "\n",
              "  .colab-df-quickchart:hover {\n",
              "    background-color: var(--hover-bg-color);\n",
              "    box-shadow: 0 1px 2px rgba(60, 64, 67, 0.3), 0 1px 3px 1px rgba(60, 64, 67, 0.15);\n",
              "    fill: var(--button-hover-fill-color);\n",
              "  }\n",
              "\n",
              "  .colab-df-quickchart-complete:disabled,\n",
              "  .colab-df-quickchart-complete:disabled:hover {\n",
              "    background-color: var(--disabled-bg-color);\n",
              "    fill: var(--disabled-fill-color);\n",
              "    box-shadow: none;\n",
              "  }\n",
              "\n",
              "  .colab-df-spinner {\n",
              "    border: 2px solid var(--fill-color);\n",
              "    border-color: transparent;\n",
              "    border-bottom-color: var(--fill-color);\n",
              "    animation:\n",
              "      spin 1s steps(1) infinite;\n",
              "  }\n",
              "\n",
              "  @keyframes spin {\n",
              "    0% {\n",
              "      border-color: transparent;\n",
              "      border-bottom-color: var(--fill-color);\n",
              "      border-left-color: var(--fill-color);\n",
              "    }\n",
              "    20% {\n",
              "      border-color: transparent;\n",
              "      border-left-color: var(--fill-color);\n",
              "      border-top-color: var(--fill-color);\n",
              "    }\n",
              "    30% {\n",
              "      border-color: transparent;\n",
              "      border-left-color: var(--fill-color);\n",
              "      border-top-color: var(--fill-color);\n",
              "      border-right-color: var(--fill-color);\n",
              "    }\n",
              "    40% {\n",
              "      border-color: transparent;\n",
              "      border-right-color: var(--fill-color);\n",
              "      border-top-color: var(--fill-color);\n",
              "    }\n",
              "    60% {\n",
              "      border-color: transparent;\n",
              "      border-right-color: var(--fill-color);\n",
              "    }\n",
              "    80% {\n",
              "      border-color: transparent;\n",
              "      border-right-color: var(--fill-color);\n",
              "      border-bottom-color: var(--fill-color);\n",
              "    }\n",
              "    90% {\n",
              "      border-color: transparent;\n",
              "      border-bottom-color: var(--fill-color);\n",
              "    }\n",
              "  }\n",
              "</style>\n",
              "\n",
              "  <script>\n",
              "    async function quickchart(key) {\n",
              "      const quickchartButtonEl =\n",
              "        document.querySelector('#' + key + ' button');\n",
              "      quickchartButtonEl.disabled = true;  // To prevent multiple clicks.\n",
              "      quickchartButtonEl.classList.add('colab-df-spinner');\n",
              "      try {\n",
              "        const charts = await google.colab.kernel.invokeFunction(\n",
              "            'suggestCharts', [key], {});\n",
              "      } catch (error) {\n",
              "        console.error('Error during call to suggestCharts:', error);\n",
              "      }\n",
              "      quickchartButtonEl.classList.remove('colab-df-spinner');\n",
              "      quickchartButtonEl.classList.add('colab-df-quickchart-complete');\n",
              "    }\n",
              "    (() => {\n",
              "      let quickchartButtonEl =\n",
              "        document.querySelector('#df-681667a8-55e6-44d6-87d4-12ec0420e4e9 button');\n",
              "      quickchartButtonEl.style.display =\n",
              "        google.colab.kernel.accessAllowed ? 'block' : 'none';\n",
              "    })();\n",
              "  </script>\n",
              "</div>\n",
              "    </div>\n",
              "  </div>\n"
            ],
            "text/plain": [
              "   index divisao_faixa  posicao_geral  posicao_genero  posicao_faixa  \\\n",
              "0      9         18-39             10              10             10   \n",
              "1     16         18-39             17              17             17   \n",
              "2     24         18-39             25              25             25   \n",
              "\n",
              "                nome                               equipe numero_peito  \\\n",
              "0  Mcdonald, Matthew      TeamBoston Athletic Association           24   \n",
              "1         Flavin, Jp  TeamHansons-Brooks Distance Project           48   \n",
              "2     Hampton, Jonas      TeamBoston Athletic Association           28   \n",
              "\n",
              "  tempo_meia_maratona tempo_liquido_maratona tempo_bruto_maratona genero  \\\n",
              "0           1H 3M 59S             2H 10M 17S           2H 10M 17S      M   \n",
              "1           1H 5M 40S             2H 13M 27S           2H 13M 27S      M   \n",
              "2           1H 5M 33S              2H 17M 5S            2H 17M 5S      M   \n",
              "\n",
              "   tempo_meia_maratona_segundos  tempo_liquido_maratona_segundos  \\\n",
              "0                        3839.0                             7817   \n",
              "1                        3940.0                             8007   \n",
              "2                        3933.0                             8225   \n",
              "\n",
              "   tempo_bruto_maratona_segundos  tempo_liquido_maratona_minutos      pace  \n",
              "0                           7817                      130.283333  3.101984  \n",
              "1                           8007                      133.450000  3.177381  \n",
              "2                           8225                      137.083333  3.263889  "
            ]
          },
          "execution_count": 164,
          "metadata": {},
          "output_type": "execute_result"
        }
      ],
      "source": [
        "#@title 1ª Amostra - Corredores com equipe\n",
        "com_equipe.head(3)"
      ]
    },
    {
      "cell_type": "code",
      "execution_count": null,
      "metadata": {
        "colab": {
          "base_uri": "https://localhost:8080/",
          "height": 216
        },
        "id": "HHBXODjFELGO",
        "outputId": "e4e3a8cd-d5d8-4d4d-f20c-33068484d33d"
      },
      "outputs": [
        {
          "data": {
            "text/html": [
              "\n",
              "  <div id=\"df-1023f01c-048f-40d0-96d9-f5c9b3fda954\" class=\"colab-df-container\">\n",
              "    <div>\n",
              "<style scoped>\n",
              "    .dataframe tbody tr th:only-of-type {\n",
              "        vertical-align: middle;\n",
              "    }\n",
              "\n",
              "    .dataframe tbody tr th {\n",
              "        vertical-align: top;\n",
              "    }\n",
              "\n",
              "    .dataframe thead th {\n",
              "        text-align: right;\n",
              "    }\n",
              "</style>\n",
              "<table border=\"1\" class=\"dataframe\">\n",
              "  <thead>\n",
              "    <tr style=\"text-align: right;\">\n",
              "      <th></th>\n",
              "      <th>index</th>\n",
              "      <th>divisao_faixa</th>\n",
              "      <th>posicao_geral</th>\n",
              "      <th>posicao_genero</th>\n",
              "      <th>posicao_faixa</th>\n",
              "      <th>nome</th>\n",
              "      <th>equipe</th>\n",
              "      <th>numero_peito</th>\n",
              "      <th>tempo_meia_maratona</th>\n",
              "      <th>tempo_liquido_maratona</th>\n",
              "      <th>tempo_bruto_maratona</th>\n",
              "      <th>genero</th>\n",
              "      <th>tempo_meia_maratona_segundos</th>\n",
              "      <th>tempo_liquido_maratona_segundos</th>\n",
              "      <th>tempo_bruto_maratona_segundos</th>\n",
              "      <th>tempo_liquido_maratona_minutos</th>\n",
              "      <th>pace</th>\n",
              "    </tr>\n",
              "  </thead>\n",
              "  <tbody>\n",
              "    <tr>\n",
              "      <th>0</th>\n",
              "      <td>0</td>\n",
              "      <td>18-39</td>\n",
              "      <td>1</td>\n",
              "      <td>1</td>\n",
              "      <td>1</td>\n",
              "      <td>Chebet, Evans</td>\n",
              "      <td>Team–</td>\n",
              "      <td>1</td>\n",
              "      <td>1H 2M 20S</td>\n",
              "      <td>2H 5M 54S</td>\n",
              "      <td>2H 5M 54S</td>\n",
              "      <td>M</td>\n",
              "      <td>3740.0</td>\n",
              "      <td>7554</td>\n",
              "      <td>7554</td>\n",
              "      <td>125.900000</td>\n",
              "      <td>2.997619</td>\n",
              "    </tr>\n",
              "    <tr>\n",
              "      <th>1</th>\n",
              "      <td>1</td>\n",
              "      <td>18-39</td>\n",
              "      <td>2</td>\n",
              "      <td>2</td>\n",
              "      <td>2</td>\n",
              "      <td>Geay, Gabriel</td>\n",
              "      <td>Team–</td>\n",
              "      <td>3</td>\n",
              "      <td>1H 2M 20S</td>\n",
              "      <td>2H 6M 4S</td>\n",
              "      <td>2H 6M 4S</td>\n",
              "      <td>M</td>\n",
              "      <td>3740.0</td>\n",
              "      <td>7564</td>\n",
              "      <td>7564</td>\n",
              "      <td>126.066667</td>\n",
              "      <td>3.001587</td>\n",
              "    </tr>\n",
              "    <tr>\n",
              "      <th>2</th>\n",
              "      <td>2</td>\n",
              "      <td>18-39</td>\n",
              "      <td>3</td>\n",
              "      <td>3</td>\n",
              "      <td>3</td>\n",
              "      <td>Kipruto, Benson</td>\n",
              "      <td>Team–</td>\n",
              "      <td>5</td>\n",
              "      <td>1H 2M 19S</td>\n",
              "      <td>2H 6M 6S</td>\n",
              "      <td>2H 6M 6S</td>\n",
              "      <td>M</td>\n",
              "      <td>3739.0</td>\n",
              "      <td>7566</td>\n",
              "      <td>7566</td>\n",
              "      <td>126.100000</td>\n",
              "      <td>3.002381</td>\n",
              "    </tr>\n",
              "  </tbody>\n",
              "</table>\n",
              "</div>\n",
              "    <div class=\"colab-df-buttons\">\n",
              "\n",
              "  <div class=\"colab-df-container\">\n",
              "    <button class=\"colab-df-convert\" onclick=\"convertToInteractive('df-1023f01c-048f-40d0-96d9-f5c9b3fda954')\"\n",
              "            title=\"Convert this dataframe to an interactive table.\"\n",
              "            style=\"display:none;\">\n",
              "\n",
              "  <svg xmlns=\"http://www.w3.org/2000/svg\" height=\"24px\" viewBox=\"0 -960 960 960\">\n",
              "    <path d=\"M120-120v-720h720v720H120Zm60-500h600v-160H180v160Zm220 220h160v-160H400v160Zm0 220h160v-160H400v160ZM180-400h160v-160H180v160Zm440 0h160v-160H620v160ZM180-180h160v-160H180v160Zm440 0h160v-160H620v160Z\"/>\n",
              "  </svg>\n",
              "    </button>\n",
              "\n",
              "  <style>\n",
              "    .colab-df-container {\n",
              "      display:flex;\n",
              "      gap: 12px;\n",
              "    }\n",
              "\n",
              "    .colab-df-convert {\n",
              "      background-color: #E8F0FE;\n",
              "      border: none;\n",
              "      border-radius: 50%;\n",
              "      cursor: pointer;\n",
              "      display: none;\n",
              "      fill: #1967D2;\n",
              "      height: 32px;\n",
              "      padding: 0 0 0 0;\n",
              "      width: 32px;\n",
              "    }\n",
              "\n",
              "    .colab-df-convert:hover {\n",
              "      background-color: #E2EBFA;\n",
              "      box-shadow: 0px 1px 2px rgba(60, 64, 67, 0.3), 0px 1px 3px 1px rgba(60, 64, 67, 0.15);\n",
              "      fill: #174EA6;\n",
              "    }\n",
              "\n",
              "    .colab-df-buttons div {\n",
              "      margin-bottom: 4px;\n",
              "    }\n",
              "\n",
              "    [theme=dark] .colab-df-convert {\n",
              "      background-color: #3B4455;\n",
              "      fill: #D2E3FC;\n",
              "    }\n",
              "\n",
              "    [theme=dark] .colab-df-convert:hover {\n",
              "      background-color: #434B5C;\n",
              "      box-shadow: 0px 1px 3px 1px rgba(0, 0, 0, 0.15);\n",
              "      filter: drop-shadow(0px 1px 2px rgba(0, 0, 0, 0.3));\n",
              "      fill: #FFFFFF;\n",
              "    }\n",
              "  </style>\n",
              "\n",
              "    <script>\n",
              "      const buttonEl =\n",
              "        document.querySelector('#df-1023f01c-048f-40d0-96d9-f5c9b3fda954 button.colab-df-convert');\n",
              "      buttonEl.style.display =\n",
              "        google.colab.kernel.accessAllowed ? 'block' : 'none';\n",
              "\n",
              "      async function convertToInteractive(key) {\n",
              "        const element = document.querySelector('#df-1023f01c-048f-40d0-96d9-f5c9b3fda954');\n",
              "        const dataTable =\n",
              "          await google.colab.kernel.invokeFunction('convertToInteractive',\n",
              "                                                    [key], {});\n",
              "        if (!dataTable) return;\n",
              "\n",
              "        const docLinkHtml = 'Like what you see? Visit the ' +\n",
              "          '<a target=\"_blank\" href=https://colab.research.google.com/notebooks/data_table.ipynb>data table notebook</a>'\n",
              "          + ' to learn more about interactive tables.';\n",
              "        element.innerHTML = '';\n",
              "        dataTable['output_type'] = 'display_data';\n",
              "        await google.colab.output.renderOutput(dataTable, element);\n",
              "        const docLink = document.createElement('div');\n",
              "        docLink.innerHTML = docLinkHtml;\n",
              "        element.appendChild(docLink);\n",
              "      }\n",
              "    </script>\n",
              "  </div>\n",
              "\n",
              "\n",
              "<div id=\"df-f2edcc45-7db5-40cb-aec7-40a30bac5900\">\n",
              "  <button class=\"colab-df-quickchart\" onclick=\"quickchart('df-f2edcc45-7db5-40cb-aec7-40a30bac5900')\"\n",
              "            title=\"Suggest charts\"\n",
              "            style=\"display:none;\">\n",
              "\n",
              "<svg xmlns=\"http://www.w3.org/2000/svg\" height=\"24px\"viewBox=\"0 0 24 24\"\n",
              "     width=\"24px\">\n",
              "    <g>\n",
              "        <path d=\"M19 3H5c-1.1 0-2 .9-2 2v14c0 1.1.9 2 2 2h14c1.1 0 2-.9 2-2V5c0-1.1-.9-2-2-2zM9 17H7v-7h2v7zm4 0h-2V7h2v10zm4 0h-2v-4h2v4z\"/>\n",
              "    </g>\n",
              "</svg>\n",
              "  </button>\n",
              "\n",
              "<style>\n",
              "  .colab-df-quickchart {\n",
              "      --bg-color: #E8F0FE;\n",
              "      --fill-color: #1967D2;\n",
              "      --hover-bg-color: #E2EBFA;\n",
              "      --hover-fill-color: #174EA6;\n",
              "      --disabled-fill-color: #AAA;\n",
              "      --disabled-bg-color: #DDD;\n",
              "  }\n",
              "\n",
              "  [theme=dark] .colab-df-quickchart {\n",
              "      --bg-color: #3B4455;\n",
              "      --fill-color: #D2E3FC;\n",
              "      --hover-bg-color: #434B5C;\n",
              "      --hover-fill-color: #FFFFFF;\n",
              "      --disabled-bg-color: #3B4455;\n",
              "      --disabled-fill-color: #666;\n",
              "  }\n",
              "\n",
              "  .colab-df-quickchart {\n",
              "    background-color: var(--bg-color);\n",
              "    border: none;\n",
              "    border-radius: 50%;\n",
              "    cursor: pointer;\n",
              "    display: none;\n",
              "    fill: var(--fill-color);\n",
              "    height: 32px;\n",
              "    padding: 0;\n",
              "    width: 32px;\n",
              "  }\n",
              "\n",
              "  .colab-df-quickchart:hover {\n",
              "    background-color: var(--hover-bg-color);\n",
              "    box-shadow: 0 1px 2px rgba(60, 64, 67, 0.3), 0 1px 3px 1px rgba(60, 64, 67, 0.15);\n",
              "    fill: var(--button-hover-fill-color);\n",
              "  }\n",
              "\n",
              "  .colab-df-quickchart-complete:disabled,\n",
              "  .colab-df-quickchart-complete:disabled:hover {\n",
              "    background-color: var(--disabled-bg-color);\n",
              "    fill: var(--disabled-fill-color);\n",
              "    box-shadow: none;\n",
              "  }\n",
              "\n",
              "  .colab-df-spinner {\n",
              "    border: 2px solid var(--fill-color);\n",
              "    border-color: transparent;\n",
              "    border-bottom-color: var(--fill-color);\n",
              "    animation:\n",
              "      spin 1s steps(1) infinite;\n",
              "  }\n",
              "\n",
              "  @keyframes spin {\n",
              "    0% {\n",
              "      border-color: transparent;\n",
              "      border-bottom-color: var(--fill-color);\n",
              "      border-left-color: var(--fill-color);\n",
              "    }\n",
              "    20% {\n",
              "      border-color: transparent;\n",
              "      border-left-color: var(--fill-color);\n",
              "      border-top-color: var(--fill-color);\n",
              "    }\n",
              "    30% {\n",
              "      border-color: transparent;\n",
              "      border-left-color: var(--fill-color);\n",
              "      border-top-color: var(--fill-color);\n",
              "      border-right-color: var(--fill-color);\n",
              "    }\n",
              "    40% {\n",
              "      border-color: transparent;\n",
              "      border-right-color: var(--fill-color);\n",
              "      border-top-color: var(--fill-color);\n",
              "    }\n",
              "    60% {\n",
              "      border-color: transparent;\n",
              "      border-right-color: var(--fill-color);\n",
              "    }\n",
              "    80% {\n",
              "      border-color: transparent;\n",
              "      border-right-color: var(--fill-color);\n",
              "      border-bottom-color: var(--fill-color);\n",
              "    }\n",
              "    90% {\n",
              "      border-color: transparent;\n",
              "      border-bottom-color: var(--fill-color);\n",
              "    }\n",
              "  }\n",
              "</style>\n",
              "\n",
              "  <script>\n",
              "    async function quickchart(key) {\n",
              "      const quickchartButtonEl =\n",
              "        document.querySelector('#' + key + ' button');\n",
              "      quickchartButtonEl.disabled = true;  // To prevent multiple clicks.\n",
              "      quickchartButtonEl.classList.add('colab-df-spinner');\n",
              "      try {\n",
              "        const charts = await google.colab.kernel.invokeFunction(\n",
              "            'suggestCharts', [key], {});\n",
              "      } catch (error) {\n",
              "        console.error('Error during call to suggestCharts:', error);\n",
              "      }\n",
              "      quickchartButtonEl.classList.remove('colab-df-spinner');\n",
              "      quickchartButtonEl.classList.add('colab-df-quickchart-complete');\n",
              "    }\n",
              "    (() => {\n",
              "      let quickchartButtonEl =\n",
              "        document.querySelector('#df-f2edcc45-7db5-40cb-aec7-40a30bac5900 button');\n",
              "      quickchartButtonEl.style.display =\n",
              "        google.colab.kernel.accessAllowed ? 'block' : 'none';\n",
              "    })();\n",
              "  </script>\n",
              "</div>\n",
              "    </div>\n",
              "  </div>\n"
            ],
            "text/plain": [
              "   index divisao_faixa  posicao_geral  posicao_genero  posicao_faixa  \\\n",
              "0      0         18-39              1               1              1   \n",
              "1      1         18-39              2               2              2   \n",
              "2      2         18-39              3               3              3   \n",
              "\n",
              "              nome equipe numero_peito tempo_meia_maratona  \\\n",
              "0    Chebet, Evans  Team–            1           1H 2M 20S   \n",
              "1    Geay, Gabriel  Team–            3           1H 2M 20S   \n",
              "2  Kipruto, Benson  Team–            5           1H 2M 19S   \n",
              "\n",
              "  tempo_liquido_maratona tempo_bruto_maratona genero  \\\n",
              "0              2H 5M 54S            2H 5M 54S      M   \n",
              "1               2H 6M 4S             2H 6M 4S      M   \n",
              "2               2H 6M 6S             2H 6M 6S      M   \n",
              "\n",
              "   tempo_meia_maratona_segundos  tempo_liquido_maratona_segundos  \\\n",
              "0                        3740.0                             7554   \n",
              "1                        3740.0                             7564   \n",
              "2                        3739.0                             7566   \n",
              "\n",
              "   tempo_bruto_maratona_segundos  tempo_liquido_maratona_minutos      pace  \n",
              "0                           7554                      125.900000  2.997619  \n",
              "1                           7564                      126.066667  3.001587  \n",
              "2                           7566                      126.100000  3.002381  "
            ]
          },
          "execution_count": 165,
          "metadata": {},
          "output_type": "execute_result"
        }
      ],
      "source": [
        "#@title 2ª Amostra - Corredores sem equipe\n",
        "sem_equipe.head(3)"
      ]
    },
    {
      "cell_type": "code",
      "execution_count": null,
      "metadata": {
        "colab": {
          "base_uri": "https://localhost:8080/"
        },
        "id": "4A98EvaIrdo_",
        "outputId": "05ea3652-02cc-42ea-85e1-8092b821d2ca"
      },
      "outputs": [
        {
          "name": "stdout",
          "output_type": "stream",
          "text": [
            "Número de equipes 85\n"
          ]
        }
      ],
      "source": [
        "#@title Número de equipes\n",
        "num_equipes = com_equipe['equipe'].nunique()\n",
        "print('Número de equipes', num_equipes)"
      ]
    },
    {
      "cell_type": "code",
      "execution_count": null,
      "metadata": {
        "colab": {
          "base_uri": "https://localhost:8080/"
        },
        "id": "hscW3oI_3GUQ",
        "outputId": "7a3bcbda-7f7c-4739-9bf1-f2c302de8075"
      },
      "outputs": [
        {
          "data": {
            "text/plain": [
              "TeamTracksmith Boston Hares        46\n",
              "TeamMisty Mountain Runners         43\n",
              "TeamCharlotte Running Club         42\n",
              "TeamBoston Athletic Association    41\n",
              "TeamSan Diego Track Club           40\n",
              "Name: equipe, dtype: int64"
            ]
          },
          "execution_count": 167,
          "metadata": {},
          "output_type": "execute_result"
        }
      ],
      "source": [
        "#@title Equipes com maior número de corredores\n",
        "\n",
        "com_equipe['equipe'].value_counts().head()\n"
      ]
    },
    {
      "cell_type": "code",
      "execution_count": null,
      "metadata": {
        "colab": {
          "base_uri": "https://localhost:8080/"
        },
        "id": "gNsPH-WBNJLX",
        "outputId": "dfb2e4b9-0293-4fce-8876-477c8661531f"
      },
      "outputs": [
        {
          "name": "stdout",
          "output_type": "stream",
          "text": [
            "Número de corredores\n",
            "Com equipe: 1257\n",
            "Sem equipe: 25092\n"
          ]
        }
      ],
      "source": [
        "#@title Número de corredores com e sem equipe\n",
        "\n",
        "# com equipe\n",
        "nc_com_equipe = com_equipe['nome'].nunique()\n",
        "\n",
        "# sem equipe\n",
        "nc_sem_equipe = sem_equipe['nome'].nunique()\n",
        "\n",
        "print(f'Número de corredores\\nCom equipe: {nc_com_equipe}\\nSem equipe: {nc_sem_equipe}')"
      ]
    },
    {
      "cell_type": "code",
      "execution_count": null,
      "metadata": {
        "colab": {
          "base_uri": "https://localhost:8080/",
          "height": 444
        },
        "id": "bbLgcui6QX-7",
        "outputId": "4d9e5149-a9c7-40c2-b5fa-d29bca1e227a"
      },
      "outputs": [
        {
          "data": {
            "image/png": "[encoded data removed]",
            "text/plain": [
              "<Figure size 500x500 with 1 Axes>"
            ]
          },
          "metadata": {},
          "output_type": "display_data"
        }
      ],
      "source": [
        "#@title Frequência de corredores com e sem equipe\n",
        "\n",
        "# novo dataframe para contagem de corredores com e sem equipe\n",
        "df_frequencia = pd.DataFrame({'Frequência': [nc_sem_equipe, nc_com_equipe]},\n",
        "                             index=['Sem Equipe', 'Com Equipe'])\n",
        "\n",
        "# configuração gráfico de pizza\n",
        "df_frequencia['Frequência'].plot(kind='pie', autopct='%1.1f%%', startangle=90, figsize=(5, 5),\n",
        "                                labels=df_frequencia.index, colors=['plum', 'aquamarine'], wedgeprops=dict(width=0.3))\n",
        "\n",
        "# rótulos do gráfico\n",
        "plt.title(\"Frequência de Corredores Com e Sem Equipe\")\n",
        "plt.ylabel(\"\")\n",
        "\n",
        "# mostrar gráfico\n",
        "plt.show()"
      ]
    },
    {
      "cell_type": "code",
      "execution_count": null,
      "metadata": {
        "colab": {
          "base_uri": "https://localhost:8080/"
        },
        "id": "8L_oj7bcm0c-",
        "outputId": "10452111-e555-4cd6-a86b-659ec8d679ca"
      },
      "outputs": [
        {
          "name": "stdout",
          "output_type": "stream",
          "text": [
            "Pace médio\n",
            "Com equipe: 4.8352736139500845\n",
            "Sem equipe: 5.321045667806716\n"
          ]
        }
      ],
      "source": [
        "#@title Pace médio corredores com e sem equipe\n",
        "mp_com_equipe = com_equipe['pace'].mean()\n",
        "mp_sem_equipe = sem_equipe['pace'].mean()\n",
        "\n",
        "print(f'Pace médio\\nCom equipe: {mp_com_equipe}\\nSem equipe: {mp_sem_equipe}')"
      ]
    },
    {
      "cell_type": "code",
      "execution_count": null,
      "metadata": {
        "colab": {
          "base_uri": "https://localhost:8080/",
          "height": 496
        },
        "id": "TF1Muy1IX1ux",
        "outputId": "66182342-3fa2-4fb4-876d-9fd5a14fc378"
      },
      "outputs": [
        {
          "data": {
            "image/png": "[encoded data removed]",
            "text/plain": [
              "<Figure size 800x500 with 1 Axes>"
            ]
          },
          "metadata": {},
          "output_type": "display_data"
        }
      ],
      "source": [
        "#@title Densidade de paces com e sem equipe\n",
        "\n",
        "# configura o gráfico\n",
        "plt.figure(figsize=(8, 5))\n",
        "\n",
        "# normalizar os histogramas\n",
        "sns.histplot(com_equipe['pace'], color='plum', alpha=0.75, label='Com Equipe', kde=True, stat='density')\n",
        "sns.histplot(sem_equipe['pace'], color='aquamarine', alpha=0.75, label='Sem Equipe', kde=True, stat='density')\n",
        "\n",
        "# rótulos do gráfico\n",
        "plt.xlabel('Pace')\n",
        "plt.ylabel('Densidade')\n",
        "plt.title(\"Pace de corredores com e sem equipe\")\n",
        "plt.legend()\n",
        "plt.show()\n"
      ]
    },
    {
      "cell_type": "code",
      "execution_count": null,
      "metadata": {
        "colab": {
          "base_uri": "https://localhost:8080/"
        },
        "id": "5N2FoQGhOKAR",
        "outputId": "9e448132-e8ff-4b40-f5d2-8c84e899cb67"
      },
      "outputs": [
        {
          "name": "stdout",
          "output_type": "stream",
          "text": [
            "                                     equipe      pace\n",
            "0                      TeamAl-limite Mexico  4.806587\n",
            "1                  TeamAnn Arbor Track Club  4.119048\n",
            "2                      TeamBEN Running Club  4.726401\n",
            "3                TeamBakersfield Greyhounds  4.803968\n",
            "4                TeamBattle Road Track Club  4.188889\n",
            "..                                      ...       ...\n",
            "81         TeamWinner's Circle Running Club  5.509776\n",
            "82                TeamWolfpack Running Club  4.406746\n",
            "83  TeamYellowstone Valley Distance Project  4.637302\n",
            "84               Teamsan Luis Distance Club  5.770679\n",
            "85                                    Team–  5.321046\n",
            "\n",
            "[86 rows x 2 columns]\n"
          ]
        }
      ],
      "source": [
        "#@title Média do pace por equipe\n",
        "mp_equipes = maratona.groupby('equipe')['pace'].mean().reset_index()\n",
        "print(mp_equipes)"
      ]
    },
    {
      "cell_type": "code",
      "execution_count": null,
      "metadata": {
        "colab": {
          "base_uri": "https://localhost:8080/"
        },
        "id": "pmpmRS2nqktI",
        "outputId": "0274a692-026b-4ad7-dfe9-c1503a1dce79"
      },
      "outputs": [
        {
          "name": "stdout",
          "output_type": "stream",
          "text": [
            "Média Pace Faixa\n",
            "Com Equipe:   divisao_faixa      pace\n",
            "0         18-39  4.386089\n",
            "1         40-44  4.674372\n",
            "2         45-49  4.959868\n",
            "3         50-54  5.086252\n",
            "4         55-59  5.353505\n",
            "5         60-64  5.537228\n",
            "6         65-69  6.043264\n",
            "7         70-74  6.847192\n",
            "8         75-79  7.345337\n",
            "Sem Equipe:   divisao_faixa      pace\n",
            "0         18-39  5.069756\n",
            "1         40-44  5.159612\n",
            "2         45-49  5.293357\n",
            "3         50-54  5.495728\n",
            "4         55-59  5.664702\n",
            "5         60-64  5.871578\n",
            "6         65-69  6.159312\n",
            "7         70-74  6.543151\n",
            "8         75-79  7.034257\n",
            "9           80+  7.169127\n"
          ]
        }
      ],
      "source": [
        "#@title Pace médio por faixa etária para corredores com e sem equipe\n",
        "mpf_com_equipe = com_equipe.groupby('divisao_faixa')['pace'].mean().reset_index()\n",
        "mpf_sem_equipe = sem_equipe.groupby('divisao_faixa')['pace'].mean().reset_index()\n",
        "\n",
        "print(f'Média Pace Faixa\\nCom Equipe: {mpf_com_equipe}\\nSem Equipe: {mpf_sem_equipe}')"
      ]
    },
    {
      "cell_type": "code",
      "execution_count": null,
      "metadata": {
        "colab": {
          "base_uri": "https://localhost:8080/"
        },
        "id": "GSohgWWnoRsg",
        "outputId": "744020bf-467c-4c29-9e5f-fe3214982523"
      },
      "outputs": [
        {
          "name": "stdout",
          "output_type": "stream",
          "text": [
            "Com Equipe: 18-39    475\n",
            "40-44    213\n",
            "45-49    182\n",
            "50-54    166\n",
            "55-59     90\n",
            "60-64     76\n",
            "65-69     39\n",
            "70-74     13\n",
            "75-79      4\n",
            "Name: divisao_faixa, dtype: int64\n",
            "Sem Equipe: 18-39    9693\n",
            "40-44    3906\n",
            "45-49    3887\n",
            "50-54    3093\n",
            "55-59    2147\n",
            "60-64    1561\n",
            "65-69     731\n",
            "70-74     262\n",
            "75-79      55\n",
            "80+         5\n",
            "Name: divisao_faixa, dtype: int64\n"
          ]
        }
      ],
      "source": [
        "#Contagem de corredores por faixa etária com/sem equipe\n",
        "\n",
        "nf_com_equipe = com_equipe['divisao_faixa'].value_counts()\n",
        "nf_sem_equipe = sem_equipe['divisao_faixa'].value_counts()\n",
        "\n",
        "print(f\"Com Equipe: {nf_com_equipe}\\nSem Equipe: {nf_sem_equipe}\")"
      ]
    },
    {
      "cell_type": "code",
      "execution_count": null,
      "metadata": {
        "colab": {
          "base_uri": "https://localhost:8080/",
          "height": 425
        },
        "id": "xroVGSWTsSHu",
        "outputId": "3d64a55d-dec2-4957-9d21-49ae0f977cfd"
      },
      "outputs": [
        {
          "data": {
            "image/png": "[encoded data removed]",
            "text/plain": [
              "<Figure size 800x400 with 1 Axes>"
            ]
          },
          "metadata": {},
          "output_type": "display_data"
        }
      ],
      "source": [
        "#@title Pace médio por faixa etária com/sem equipe\n",
        "\n",
        "# configuração do gráfico\n",
        "fig, ax = plt.subplots(figsize=(10, 5), facecolor='white', dpi=80)\n",
        "\n",
        "# barras verticais com média do pace\n",
        "## sem equipe\n",
        "ax.vlines(x=mpf_sem_equipe.index, ymin=0, ymax=mpf_sem_equipe['pace'], color='plum', alpha=0.7, linewidth=20, label='Sem Equipe')\n",
        "## com equipe\n",
        "ax.vlines(x=mpf_com_equipe.index, ymin=0, ymax=mpf_com_equipe['pace'], color='aquamarine', alpha=0.7, linewidth=20, label='Com Equipe')\n",
        "\n",
        "\n",
        "# rótulos\n",
        "plt.xticks(mpf_com_equipe.index, mpf_com_equipe['divisao_faixa'], rotation=60, fontsize=12)\n",
        "ax.set(ylabel='Pace', ylim=(0, 10))\n",
        "ax.set(xlabel='Divisão Faixa (índices)')\n",
        "plt.legend()\n",
        "plt.title('Pace Médio por Faixa Etária e Com/Sem Equipe')\n",
        "\n",
        "# mostrar gráfico\n",
        "plt.show()\n"
      ]
    },
    {
      "cell_type": "code",
      "execution_count": 195,
      "metadata": {
        "colab": {
          "base_uri": "https://localhost:8080/"
        },
        "id": "TMqUcBF3wRsU",
        "outputId": "8a91cbb3-0d40-4033-f090-6074cdf1f85a"
      },
      "outputs": [
        {
          "name": "stdout",
          "output_type": "stream",
          "text": [
            "A equipe mais veloz é: TeamHansons-Brooks Distance Project, com média de pace: 3.4932539682539683\n"
          ]
        }
      ],
      "source": [
        "#@title Equipe mais veloz\n",
        "\n",
        "# agrupa por equipe\n",
        "mp_por_equipe = com_equipe.groupby('equipe')['pace'].mean()\n",
        "\n",
        "# encontra equipe com a menor média de pace\n",
        "equipe_mais_veloz = mp_por_equipe.idxmin()\n",
        "\n",
        "print(f\"A equipe mais veloz é: {equipe_mais_veloz}, com média de pace: {mp_por_equipe.min()}\")"
      ]
    },
    {
      "cell_type": "markdown",
      "metadata": {
        "id": "dym8C9Z_JEj_"
      },
      "source": [
        "## Conclusão ✨"
      ]
    },
    {
      "cell_type": "markdown",
      "metadata": {
        "id": "5jb-UdFiWFM_"
      },
      "source": [
        "### Desempenho por gênero 👩‍🦱👨‍🦰\n",
        "\n",
        ">- **Diferença no Pace:** Em geral, os homens apresentaram um pace menor em comparação com as mulheres, indicando que, em média, os homens nessa maratona foram mais rápidos.\n",
        ">- **Participação Masculina Maior:** A maratona teve uma participação maior de homens em comparação com as mulheres."
      ]
    },
    {
      "cell_type": "markdown",
      "metadata": {
        "id": "tDSCMSFuudzw"
      },
      "source": [
        "### Desempenho das Equipes 👭\n",
        "\n",
        "\n",
        ">- **Equipes tem Pace Menor:** A análise mostra que os corredores que fazem parte de equipes tiveram um pace menor do que aqueles sem equipe. Isso pode estar relacionado com treinamento especializado e que a presença de uma equipe pode influenciar positivamente o desempenho.\n",
        ">- **Corrida e Longevidade:** Na faixa etária dos 50-54 anos, observa-se uma redução no número de corredores. Pode estar relacionado ao risco de lesões e mudança de prioridades."
      ]
    },
    {
      "cell_type": "code",
      "execution_count": null,
      "metadata": {
        "id": "aDZgmZyGr8x_"
      },
      "outputs": [],
      "source": [
        "#@title Homens, mulheres, com e sem equipe\n",
        "\n",
        "# filtrando os dados para homens\n",
        "homens_com_equipe = maratona[(maratona['equipe'] != 'Team–') & (maratona['genero'] == 'M')].reset_index()\n",
        "homens_sem_equipe = maratona[(maratona['equipe'] == 'Team–') & (maratona['genero'] == 'M')].reset_index()\n",
        "\n",
        "# filtrando  os dados para mulheres\n",
        "mulheres_com_equipe = maratona[(maratona['equipe'] != 'Team–') & (maratona['genero'] == 'W')].reset_index()\n",
        "mulheres_sem_equipe = maratona[(maratona['equipe'] == 'Team–') & (maratona['genero'] == 'W')].reset_index()"
      ]
    },
    {
      "cell_type": "code",
      "execution_count": null,
      "metadata": {
        "colab": {
          "base_uri": "https://localhost:8080/",
          "height": 573
        },
        "id": "7YBztd2rEAMw",
        "outputId": "aa8b06a7-0696-4bb6-85e7-3c657fc46d5c"
      },
      "outputs": [
        {
          "data": {
            "image/png": "[encoded data removed]",
            "text/plain": [
              "<Figure size 800x600 with 1 Axes>"
            ]
          },
          "metadata": {},
          "output_type": "display_data"
        }
      ],
      "source": [
        "#@title Gráfico com relação de gênero e equipe\n",
        "\n",
        "# pace médio para cada categoria\n",
        "mp_homens_com_equipe = homens_com_equipe['pace'].mean()\n",
        "mp_homens_sem_equipe = homens_sem_equipe['pace'].mean()\n",
        "mp_mulheres_com_equipe = mulheres_com_equipe['pace'].mean()\n",
        "mp_mulheres_sem_equipe = mulheres_sem_equipe['pace'].mean()\n",
        "\n",
        "# novo dataframe com resultados\n",
        "dados_pace = pd.DataFrame({\n",
        "    'Categoria': ['Homem com Equipe', 'Homem sem Equipe', 'Mulher com Equipe', 'Mulher sem Equipe'],\n",
        "    'Pace Médio': [mp_homens_com_equipe, mp_homens_sem_equipe, mp_mulheres_com_equipe, mp_mulheres_sem_equipe]\n",
        "})\n",
        "\n",
        "# configuração inicial\n",
        "plt.figure(figsize=(8, 6))\n",
        "sns.set(style=\"whitegrid\")\n",
        "\n",
        "# gráfico de barras\n",
        "sns.barplot(x='Pace Médio', y='Categoria', data=dados_pace, palette='pastel')\n",
        "\n",
        "# rótulos do gráfico\n",
        "plt.title('Pace Médio por Categoria')\n",
        "plt.xlabel('Pace Médio')\n",
        "plt.ylabel('Categoria')\n",
        "\n",
        "# mostrar o gráfico\n",
        "plt.show()\n"
      ]
    },
    {
      "cell_type": "code",
      "execution_count": null,
      "metadata": {
        "colab": {
          "base_uri": "https://localhost:8080/"
        },
        "id": "AfTa2vXLrL-A",
        "outputId": "aba6d560-f1a8-43c3-d987-f4b55107d4e4"
      },
      "outputs": [
        {
          "name": "stdout",
          "output_type": "stream",
          "text": [
            "Média Pace\n",
            "Homens com equipe: 4.557699949504928\n",
            "Homens sem equipe: 5.082760720765841\n",
            "Mulheres com equipe: 5.210387182910547\n",
            "Mulheres sem equipe: 5.637329104125118\n"
          ]
        }
      ],
      "source": [
        "#@title Valores dos paces por categoria\n",
        "print(f'Média Pace\\nHomens com equipe: {mp_homens_com_equipe}\\nHomens sem equipe: {mp_homens_sem_equipe}\\nMulheres com equipe: {mp_mulheres_com_equipe}\\nMulheres sem equipe: {mp_mulheres_sem_equipe}')"
      ]
    }
  ],
  "metadata": {
    "colab": {
      "provenance": [],
      "toc_visible": true
    },
    "kernelspec": {
      "display_name": "Python 3",
      "name": "python3"
    },
    "language_info": {
      "codemirror_mode": {
        "name": "ipython",
        "version": 3
      },
      "file_extension": ".py",
      "mimetype": "text/x-python",
      "name": "python",
      "nbconvert_exporter": "python",
      "pygments_lexer": "ipython3",
      "version": "3.10.11"
    }
  },
  "nbformat": 4,
  "nbformat_minor": 0
}
